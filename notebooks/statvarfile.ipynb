{
 "cells": [
  {
   "cell_type": "markdown",
   "metadata": {},
   "source": [
    "# Load a PRMS statistical output variable file into a datetime indexed pandas dataframe using `util.load_statvar`\n",
    "---\n",
    "\n",
    "Loading time series data into Pandas is useful because Pandas has been built for to handle and manipulate tabular or time series data. From Pandas the data can also be easily converted to other formats such as csv. Pandas objects can conveniently be index by dates and tabular operations such as pivot tables, sort, groupby are readily available. The statistical output variable file from PRMS AKA statvar file holds time series output. Examples of data within this file include simulated temperature at one location in the model or basin area weighted evaporation and many others, listed in tables in the PRMS manual."
   ]
  },
  {
   "cell_type": "code",
   "execution_count": 1,
   "metadata": {},
   "outputs": [],
   "source": [
    "import os\n",
    "from prms_python.util import load_statvar \n",
    "import matplotlib.pyplot as plt\n",
    "import pandas as pd\n",
    "import numpy as np \n",
    "% matplotlib inline"
   ]
  },
  {
   "cell_type": "markdown",
   "metadata": {},
   "source": [
    "### Call the function using an example statvar file which returns a Pandas dataframe"
   ]
  },
  {
   "cell_type": "code",
   "execution_count": 2,
   "metadata": {},
   "outputs": [
    {
     "data": {
      "text/html": [
       "<div>\n",
       "<table border=\"1\" class=\"dataframe\">\n",
       "  <thead>\n",
       "    <tr style=\"text-align: right;\">\n",
       "      <th>statistical_variables</th>\n",
       "      <th>basin_cfs_1</th>\n",
       "      <th>basin_potet_1</th>\n",
       "      <th>orad_1</th>\n",
       "      <th>runoff_57</th>\n",
       "    </tr>\n",
       "    <tr>\n",
       "      <th>date</th>\n",
       "      <th></th>\n",
       "      <th></th>\n",
       "      <th></th>\n",
       "      <th></th>\n",
       "    </tr>\n",
       "  </thead>\n",
       "  <tbody>\n",
       "    <tr>\n",
       "      <th>1984-07-01</th>\n",
       "      <td>864.475023</td>\n",
       "      <td>0.087736</td>\n",
       "      <td>201.736343</td>\n",
       "      <td>19800.0</td>\n",
       "    </tr>\n",
       "    <tr>\n",
       "      <th>1984-07-02</th>\n",
       "      <td>3665.486368</td>\n",
       "      <td>0.068127</td>\n",
       "      <td>201.237671</td>\n",
       "      <td>21900.0</td>\n",
       "    </tr>\n",
       "    <tr>\n",
       "      <th>1984-07-03</th>\n",
       "      <td>4885.737093</td>\n",
       "      <td>0.104705</td>\n",
       "      <td>322.316528</td>\n",
       "      <td>23100.0</td>\n",
       "    </tr>\n",
       "    <tr>\n",
       "      <th>1984-07-04</th>\n",
       "      <td>7464.010971</td>\n",
       "      <td>0.158801</td>\n",
       "      <td>302.056671</td>\n",
       "      <td>24600.0</td>\n",
       "    </tr>\n",
       "    <tr>\n",
       "      <th>1984-07-05</th>\n",
       "      <td>13864.822171</td>\n",
       "      <td>0.179917</td>\n",
       "      <td>281.067871</td>\n",
       "      <td>26500.0</td>\n",
       "    </tr>\n",
       "  </tbody>\n",
       "</table>\n",
       "</div>"
      ],
      "text/plain": [
       "statistical_variables   basin_cfs_1  basin_potet_1      orad_1  runoff_57\n",
       "date                                                                     \n",
       "1984-07-01               864.475023       0.087736  201.736343    19800.0\n",
       "1984-07-02              3665.486368       0.068127  201.237671    21900.0\n",
       "1984-07-03              4885.737093       0.104705  322.316528    23100.0\n",
       "1984-07-04              7464.010971       0.158801  302.056671    24600.0\n",
       "1984-07-05             13864.822171       0.179917  281.067871    26500.0"
      ]
     },
     "execution_count": 2,
     "metadata": {},
     "output_type": "execute_result"
    }
   ],
   "source": [
    "inf = os.path.join('..', 'test', 'data', 'statvar.dat') \n",
    "df = load_statvar(inf)\n",
    "## view first five lines of dataframe\n",
    "df.head() # the resulting function returns a datetime indexed dataframe"
   ]
  },
  {
   "cell_type": "markdown",
   "metadata": {},
   "source": [
    "### Date indexing and slicing is now easily done in Pandas\n",
    "* Example below show date slicing using strings that pandas interprets, e.g. \"10/01/1984\"\n",
    "* Then plot the time series of the statvar variables: simulated streamflow (basin_cfs) and measured streamflow (runoff) "
   ]
  },
  {
   "cell_type": "code",
   "execution_count": 3,
   "metadata": {},
   "outputs": [
    {
     "data": {
      "text/html": [
       "<div>\n",
       "<table border=\"1\" class=\"dataframe\">\n",
       "  <thead>\n",
       "    <tr style=\"text-align: right;\">\n",
       "      <th>statistical_variables</th>\n",
       "      <th>basin_cfs_1</th>\n",
       "      <th>runoff_57</th>\n",
       "    </tr>\n",
       "    <tr>\n",
       "      <th>date</th>\n",
       "      <th></th>\n",
       "      <th></th>\n",
       "    </tr>\n",
       "  </thead>\n",
       "  <tbody>\n",
       "    <tr>\n",
       "      <th>1984-10-01</th>\n",
       "      <td>7637.170504</td>\n",
       "      <td>11100.0</td>\n",
       "    </tr>\n",
       "  </tbody>\n",
       "</table>\n",
       "</div>"
      ],
      "text/plain": [
       "statistical_variables  basin_cfs_1  runoff_57\n",
       "date                                         \n",
       "1984-10-01             7637.170504    11100.0"
      ]
     },
     "execution_count": 3,
     "metadata": {},
     "output_type": "execute_result"
    }
   ],
   "source": [
    "## get measured and simulated streamflow on a specific date using pandas.DataFrame.loc\n",
    "df.loc[\"10/01/1984\",['basin_cfs_1','runoff_57']]"
   ]
  },
  {
   "cell_type": "code",
   "execution_count": 4,
   "metadata": {},
   "outputs": [
    {
     "data": {
      "text/plain": [
       "<matplotlib.text.Text at 0x7f8ff0f9d150>"
      ]
     },
     "execution_count": 4,
     "metadata": {},
     "output_type": "execute_result"
    },
    {
     "data": {
      "image/png": "[encoded data removed]",
      "text/plain": [
       "<matplotlib.figure.Figure at 0x7f8ff102f790>"
      ]
     },
     "metadata": {},
     "output_type": "display_data"
    }
   ],
   "source": [
    "## get a slice of the dataframe for the two streamflow variables and slice for a water year and plot\n",
    "plot_data = df.loc[\"10/01/1984\":\"09/30/1985\",['basin_cfs_1','runoff_57']] \n",
    "plot_data.plot()  ## could also use matplotlib or other plot package\n",
    "plt.ylabel('streamflow cfs')"
   ]
  },
  {
   "cell_type": "code",
   "execution_count": 5,
   "metadata": {},
   "outputs": [
    {
     "data": {
      "text/html": [
       "<div>\n",
       "<table border=\"1\" class=\"dataframe\">\n",
       "  <thead>\n",
       "    <tr style=\"text-align: right;\">\n",
       "      <th>statistical_variables</th>\n",
       "      <th>basin_cfs_1</th>\n",
       "      <th>runoff_57</th>\n",
       "    </tr>\n",
       "  </thead>\n",
       "  <tbody>\n",
       "    <tr>\n",
       "      <th>count</th>\n",
       "      <td>365.000000</td>\n",
       "      <td>365.000000</td>\n",
       "    </tr>\n",
       "    <tr>\n",
       "      <th>mean</th>\n",
       "      <td>13538.175130</td>\n",
       "      <td>17724.657534</td>\n",
       "    </tr>\n",
       "    <tr>\n",
       "      <th>std</th>\n",
       "      <td>8235.247999</td>\n",
       "      <td>8772.001833</td>\n",
       "    </tr>\n",
       "    <tr>\n",
       "      <th>min</th>\n",
       "      <td>5400.609965</td>\n",
       "      <td>9480.000000</td>\n",
       "    </tr>\n",
       "    <tr>\n",
       "      <th>25%</th>\n",
       "      <td>8013.978742</td>\n",
       "      <td>11800.000000</td>\n",
       "    </tr>\n",
       "    <tr>\n",
       "      <th>50%</th>\n",
       "      <td>11762.005019</td>\n",
       "      <td>14100.000000</td>\n",
       "    </tr>\n",
       "    <tr>\n",
       "      <th>75%</th>\n",
       "      <td>15590.541780</td>\n",
       "      <td>21800.000000</td>\n",
       "    </tr>\n",
       "    <tr>\n",
       "      <th>max</th>\n",
       "      <td>61061.663343</td>\n",
       "      <td>51500.000000</td>\n",
       "    </tr>\n",
       "  </tbody>\n",
       "</table>\n",
       "</div>"
      ],
      "text/plain": [
       "statistical_variables   basin_cfs_1     runoff_57\n",
       "count                    365.000000    365.000000\n",
       "mean                   13538.175130  17724.657534\n",
       "std                     8235.247999   8772.001833\n",
       "min                     5400.609965   9480.000000\n",
       "25%                     8013.978742  11800.000000\n",
       "50%                    11762.005019  14100.000000\n",
       "75%                    15590.541780  21800.000000\n",
       "max                    61061.663343  51500.000000"
      ]
     },
     "execution_count": 5,
     "metadata": {},
     "output_type": "execute_result"
    }
   ],
   "source": [
    "## use pandas function to get summary statistics for the 1985 water year\n",
    "plot_data.describe()"
   ]
  },
  {
   "cell_type": "code",
   "execution_count": 6,
   "metadata": {},
   "outputs": [
    {
     "data": {
      "text/plain": [
       "<matplotlib.text.Text at 0x7f8ff0eab890>"
      ]
     },
     "execution_count": 6,
     "metadata": {},
     "output_type": "execute_result"
    },
    {
     "data": {
      "image/png": "[encoded data removed]",
      "text/plain": [
       "<matplotlib.figure.Figure at 0x7f8ff0ebe3d0>"
      ]
     },
     "metadata": {},
     "output_type": "display_data"
    }
   ],
   "source": [
    "# pivot table combined with datetime index allows for easy time aggregation\n",
    "# for example the monthly median of daily PET over the period of record can be computed using pivot_table\n",
    "monthly_median_PET = df.pivot_table(values='basin_potet_1', index=df.index.month, aggfunc=np.median)\n",
    "plt.plot(monthly_median_PET)\n",
    "plt.xlim(1,12)\n",
    "plt.ylabel('median daily PET (inches)')\n",
    "plt.xlabel('month')"
   ]
  }
 ],
 "metadata": {
  "kernelspec": {
   "display_name": "Python 2",
   "language": "python",
   "name": "python2"
  },
  "language_info": {
   "codemirror_mode": {
    "name": "ipython",
    "version": 2
   },
   "file_extension": ".py",
   "mimetype": "text/x-python",
   "name": "python",
   "nbconvert_exporter": "python",
   "pygments_lexer": "ipython2",
   "version": "2.7.12"
  }
 },
 "nbformat": 4,
 "nbformat_minor": 1
}
