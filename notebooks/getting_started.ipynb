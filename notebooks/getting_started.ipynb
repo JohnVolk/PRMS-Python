{
 "cells": [
  {
   "cell_type": "markdown",
   "metadata": {},
   "source": [
    "# A note on directory and file formats \n",
    "\n",
    "We made logistical decisions when developing PRMS-Python, some of these were for user simplicity and flexibility, other decisions were based on functional necessity. Currently to utilize all of PRMS-Pythons submodules and functions, we recommend following these guidelines for your PRMS file names/format and directory structure. Depending on the community and user feedback, modification of these formating rules may occur in the future. We appreciate the feedback. \n",
    "\n",
    "## File format and naming for using Simulations, SimulationSerires, Optimizations or ScenarioSeries :\n",
    "\n",
    "**1)** All climate forcing data that is needed for a single PRMS run (specified in the PRMS control file) should be in a single data file and all parameters should be in a single parameter file. \n",
    "\n",
    "**2)** The parameter file should be named `parameters`, data file `data`, control file `control`, and statistical variable output file `statvar.dat`. All of these file names are specified in your control file.\n",
    " \n",
    "**3)** Place all of the required files for running your PRMS model in the same directory. Don't forget to make your control file paths for these files match, here is an example of setting the control variable for the parameter file path in the control file:\n",
    "\n",
    "```bash\n",
    "####\n",
    "param_file\n",
    "1\n",
    "4\n",
    "parameters\n",
    "```\n",
    "\n",
    "**4)** Add the prms executable to your PATH variables so that it can be called from the command line and by PRMS-Python without the need for making duplicate copies of the executable.\n",
    "\n",
    "----\n",
    "# Suggestions on getting started\n",
    "\n",
    "First ensure that your PRMS input file names are as decribed above and you have added PRMS to your PATH. Next download PRMS-Python using either GitHub or PIP.\n",
    "\n",
    "We recommend testing PRMS-Python and getting familiar with the basic functionaility by looking at the test model that comes with the download (LBCD) by following the included Jupyter Notebooks. The notebooks can be found in `PRMS-Python\\notebooks`. Most of what can be found on the [online documentation](https://prms-python.github.io/docs/tutorial.html) and in some instances more can be found in the notebooks and any future code changes will be addressed in the notebooks first. You may want to start with the basic functionaility such as the classes and methods that work with PRMS input and output files first e.g. `Parameters`, `Data`, `util.load_statvar`  before moving on to more advanced functionalities."
   ]
  }
 ],
 "metadata": {
  "kernelspec": {
   "display_name": "Python 3",
   "language": "python",
   "name": "python3"
  },
  "language_info": {
   "codemirror_mode": {
    "name": "ipython",
    "version": 3
   },
   "file_extension": ".py",
   "mimetype": "text/x-python",
   "name": "python",
   "nbconvert_exporter": "python",
   "pygments_lexer": "ipython3",
   "version": "3.5.2"
  }
 },
 "nbformat": 4,
 "nbformat_minor": 2
}
