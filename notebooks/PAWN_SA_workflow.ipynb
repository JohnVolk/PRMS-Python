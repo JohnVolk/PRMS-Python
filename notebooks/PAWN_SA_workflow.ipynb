{
 "cells": [
  {
   "cell_type": "markdown",
   "metadata": {},
   "source": [
    "# Example workflow of the PAWN global sensitivity analysis method using PRMS-Python on three arbitrary PRMS parameters \n",
    "\n",
    "The PAWN global, moment-independent, sensitivity analysis (SA) method is relatively straightforward to implement for any PRMS parameter using PRMS-Python objects. The research paper that describes PAWN is found More information on the PAWN method can be found [here](http://dx.doi.org/10.1016/j.envsoft.2015.01.004). This example template can be modified to create the data necessary (emprical CDFs) for PAWN on any number of physical PRMS parameters for any PRMS model. A case study using a slightly modified version of this script was used to conduct PAWN SA on 8 parameters that comprise the degree-day solar radiation module in PRMS, details can be found in the PRMS-Python research paper [here](). The control parameters and variable names for the experimental setup of PAWN as stated in the PAWN and PRMS-Python papers are used within this code template, similarly this example code is heavily commented for clarity."
   ]
  },
  {
   "cell_type": "code",
   "execution_count": null,
   "metadata": {},
   "outputs": [],
   "source": [
    "# import necessary modules for PAWN\n",
    "from prms_python import Data, Optimizer, Parameters, util\n",
    "from prms_python.optimizer import OptimizationResult\n",
    "from prms_python.optimizer import resample_param as resample"
   ]
  },
  {
   "cell_type": "markdown",
   "metadata": {},
   "source": [
    "## Define paths to initial model inputs, measured data, and initialize input objects"
   ]
  },
  {
   "cell_type": "code",
   "execution_count": null,
   "metadata": {},
   "outputs": [],
   "source": [
    "param_path 'path/to/model/parameters'\n",
    "data = Data('path/to/model/data') # this example does not modify climate forcing so a single instance is fine\n",
    "control_path = 'path/to/model/control'\n",
    "work_directory = 'path/to/output/directory'\n",
    "measrd_path = 'path/to/measured/output.csv'\n",
    "PRMS_output_variable = 'name_of_PRMS_output_variable_for_SA' # e.g. \"basin runoff 1\" or Y in PAWN"
   ]
  },
  {
   "cell_type": "markdown",
   "metadata": {},
   "source": [
    "Note, to avoid platform specific path errors use os.path.join() as opposed to strings with platform path separators. For example if the path to the control file is $HOME/prms/control then use:\n",
    "\n",
    "``` python\n",
    "import os\n",
    "home = os.path.expanduser(\"~\")\n",
    "control_path = os.path.join(home, 'prms', 'control')\n",
    "```"
   ]
  },
  {
   "cell_type": "markdown",
   "metadata": {},
   "source": [
    "## Define sampling method, optimization title, and experimental setup control parameters\n",
    "\n",
    "This example uses the uniform distribution to resample parameter values over their entire domain as described by the PRMS user manual. Alternatively you could use a smaller domain from the uniform distribution by changing `prms_python.optimizer.param_ranges` or you could use a normal random variable as described [here](https://github.com/PRMS-Python/PRMS-Python/blob/master/notebooks/monte_carlo_param_resampling.ipynb)."
   ]
  },
  {
   "cell_type": "code",
   "execution_count": null,
   "metadata": {},
   "outputs": [],
   "source": [
    "resample_meth = 'uniform' # sampling parameter values from a uniform distribution\n",
    "title = 'ddsolrad_PAWN' # title optional\n",
    "nprocs = 8 # number of physical or logical processing cores to use\n",
    "\n",
    "# PAWN related experimental setup variables\n",
    "M = 3 # number of input factors for SA (parameters in this case)\n",
    "Nuc = 4000 # number of simulations to build the unconditional CDF\n",
    "Nc = 20 # number of times to resample each conditioning parameter\n",
    "n = 100 # number of simulations for buidling each conditional CDF\n",
    "\n",
    "# stages are used by the Optimizer object, \n",
    "# in PAWN these are essentially the names of each input factor 1,2,...,M\n",
    "stage_names = ['unconditional', 'cond_p1', 'cond_p2', 'cond_p3'] \n",
    "# each conditional stage is the exclusion of 1 of the 3 input parameters which is held 'constant' Nc times\n",
    "param_names_for_each_stage = [\n",
    "                                ['p1_name', 'p2_name', 'p3_name'], \n",
    "                                ['p2_name', 'p3_name'], \n",
    "                                ['p1_name', 'p3_name'], \n",
    "                                ['p1_name', 'p2_name']\n",
    "                             ]"
   ]
  },
  {
   "cell_type": "markdown",
   "metadata": {},
   "source": [
    "## Conduct Nuc simulations on all M parameters to build the unconditional CDF"
   ]
  },
  {
   "cell_type": "code",
   "execution_count": null,
   "metadata": {},
   "outputs": [],
   "source": [
    "stage_name = stage_names[0] # \"unconditional\"\n",
    "# create an Optimizer instance and call monte_carlo method\n",
    "optr = Optimizer(Parameters(param_path), data, control_path, work_directory, title=title)\n",
    "optr.monte_carlo(\n",
    "                 measured_path, \n",
    "                 param_names_for_each_stage[0], \n",
    "                 PRMS_output_variable, \n",
    "                 method=resample_meth,\n",
    "                 n_sims=Nuc, \n",
    "                 nproc=nprocs, \n",
    "                 stage=stage_name\n",
    "                 )\n",
    "# optionally archive output to reduce disk space\n",
    "result = OptimizationResult(work_directory, stage=stage_name)\n",
    "result.archive()"
   ]
  },
  {
   "cell_type": "markdown",
   "metadata": {},
   "source": [
    "## Create conditional CDFs Nc times for each parameter, storing conditioning parameter values"
   ]
  },
  {
   "cell_type": "code",
   "execution_count": null,
   "metadata": {},
   "outputs": [],
   "source": [
    "for nc in range(Nc): # number of conditional param bootstraps- distributable to multiple machines/nodes\n",
    "    for i, stage in enumerate(stage_names): # xi param of M total params\n",
    "        if stage=='unconditional': # already built unconditional CDF- skip\n",
    "            continue\n",
    "        # use unconditional param set minus conditioning param set to find conditioning param name\n",
    "        conditional_param = list(set(stage_names['unconditional']) - set(stage_names[stage]))[0]\n",
    "        # make a Parameter instance to resample the conditioning param  \n",
    "        params = Parameters(param_path)\n",
    "        xi_values = resample(params, conditional_param)\n",
    "        params[conditional_param] = xi_values # assign resampled conditioning parameter (xi) to Parameter object\n",
    "        stage_name = stage+str(nc) # add nc for nc'th bootstrap resampling round\n",
    "        # initialize an Optimizer object and call monte_carlo\n",
    "        optr = Optimizer(\n",
    "                         params, \n",
    "                         data, \n",
    "                         control_path, \n",
    "                         work_directory, \n",
    "                         title=title, \n",
    "                         description=\"Conditioning value(s) for {}: {}\".format(\n",
    "                                          conditional_param, xi_values.tolist()) \n",
    "                         ) # track the parameter conditioning value for post-processing\n",
    "        optr.monte_carlo(\n",
    "                         measured_path, \n",
    "                         param_names_for_each_stage[i], \n",
    "                         PRMS_output_variable, \n",
    "                         method=resample_meth,\n",
    "                         n_sims=n,  \n",
    "                         nproc=nprocs, \n",
    "                         stage=stage_name\n",
    "                         )\n",
    "        # optionally archive output to reduce disk space\n",
    "        result = OptimizationResult(work_directory, stage=stage_name)\n",
    "        result.archive()"
   ]
  },
  {
   "cell_type": "markdown",
   "metadata": {},
   "source": [
    "## That's it, now calculate sensitivity indices for each input parameter\n",
    "\n",
    "Although this example does not include analysis of results, it is straightforward to build output CDFs from the archived JSON files. For example of accessing output from these files please refer to the Jupyter Notebook that packs with PRMS-Python for the `OptimizationResult` object [here](https://github.com/PRMS-Python/PRMS-Python/blob/master/notebooks/monte_carlo_optimization_result.ipynb). For convenience we added Python functions that calculate emprical CDFs and the Kolmogorov-Smirnov distance between two CDFs specifically the `prms_python.util.calc_emp_CDF` and `prms_python.util.Kolmogorov_Smirnov` functions. These functions can be used to easily calculate the PAWN sensitivity analysis from the results produced using the template above.  "
   ]
  }
 ],
 "metadata": {
  "kernelspec": {
   "display_name": "Python 3",
   "language": "python",
   "name": "python3"
  },
  "language_info": {
   "codemirror_mode": {
    "name": "ipython",
    "version": 3
   },
   "file_extension": ".py",
   "mimetype": "text/x-python",
   "name": "python",
   "nbconvert_exporter": "python",
   "pygments_lexer": "ipython3",
   "version": "3.5.2"
  }
 },
 "nbformat": 4,
 "nbformat_minor": 2
}
