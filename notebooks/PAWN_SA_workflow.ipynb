{
 "cells": [
  {
   "cell_type": "markdown",
   "metadata": {},
   "source": [
    "# Example workflow of the PAWN global sensitivity analysis method using PRMS-Python on three arbitrary PRMS parameters \n",
    "\n",
    "The PAWN global, moment-independent, sensitivity analysis (SA) method is relatively straightforward to implement for any PRMS parameter using PRMS-Python objects. This example template can be modified to create the data necessary (emprical CDFs) for PAWN SA on any number of physical PRMS paraemters for any PRMS model. More information on the PAWN method can be found in the manuscript [here](http://dx.doi.org/10.1016/j.envsoft.2015.01.004). A case study using a slightly modified version of this script was used to conduct PAWN SA on 8 parameters that comprise the degree day solar radiation method in PRMS, details can be found in the PRMS-Python manuscript [here](). The control parameters and variable names for the experimental setup of PAWN as stated the literature are used within this code template, similarly this example code is heavily commented for clarity."
   ]
  },
  {
   "cell_type": "code",
   "execution_count": 2,
   "metadata": {},
   "outputs": [],
   "source": [
    "import numpy as np\n",
    "import pandas as pd\n",
    "import os, json\n",
    "from prms_python import Data, Optimizer, Parameters, util\n",
    "from prms_python.optimizer import resample_param as resample\n",
    "from prms_python.optimizer import OptimizationResult\n",
    "import matplotlib.pyplot as plt\n",
    "import matplotlib\n",
    "matplotlib.style.use('ggplot')\n",
    "%matplotlib inline"
   ]
  },
  {
   "cell_type": "markdown",
   "metadata": {},
   "source": [
    "## Define paths to initial model inputs, measured data, and initialize input objects"
   ]
  },
  {
   "cell_type": "code",
   "execution_count": 3,
   "metadata": {},
   "outputs": [],
   "source": [
    "param_path 'path/to/model/parameters'\n",
    "data = Data('path/to/model/data') # this example does not modify climate forcing so a single instance is fine\n",
    "control_path = 'path/to/model/control'\n",
    "work_directory = '/path/to/output/directory'\n",
    "measrd_path = 'path/to/measured/output.csv'\n",
    "PRMS_output_variable = 'name_of_PRMS_output_variable_for_SA' # e.g. \"basin runoff 1\" or Y in PAWN"
   ]
  },
  {
   "cell_type": "markdown",
   "metadata": {},
   "source": [
    "Note, to avoid platform specific path errors use os.path.join() as opposed to strings with platform path separators. For example if the path to the control file is $HOME/prms/control then use:\n",
    "\n",
    "```python\n",
    "home = os.path.expanduser(\"~\")\n",
    "control_path = os.path.join(home, 'prms', 'control')\n",
    "```\n"
   ]
  },
  {
   "cell_type": "markdown",
   "metadata": {},
   "source": [
    "## Define sampling method, optimization title, and experimental setup control parameters"
   ]
  },
  {
   "cell_type": "code",
   "execution_count": 11,
   "metadata": {},
   "outputs": [],
   "source": [
    "resample_meth = 'uniform' # sampling parameter values from a uniform distribution is one way for global SA\n",
    "title = 'ddsolrad_PAWN' # title optional\n",
    "nprocs = 8 # number of physical or logical processing cores to use\n",
    "\n",
    "# PAWN related experimental setup variables\n",
    "M = 3 # number of input factors for SA (parameters in this case)\n",
    "Nuc = 4000 # number of simulations to build the unconditional CDF\n",
    "Nc = 20 # number of times to resample each conditioning parameter\n",
    "n = 100 # number of simulations for buidling each conditional CDF\n",
    "\n",
    "# stages are used by the Optimizer object, \n",
    "# in PAWN these are essentially the names of each input factor 1,2,...,M\n",
    "stage_names = ['unconditional', 'cond_p1', 'cond_p2', 'cond_p3'] \n",
    "# each conditional stage is the exclusion of 1 of the 3 input parameters which is held 'constant' Nc times\n",
    "param_names_for_each_stage = [\n",
    "                                ['p1_name', 'p2_name', 'p3_name'], \n",
    "                                ['p2_name', 'p3_name'], \n",
    "                                ['p1_name', 'p3_name'], \n",
    "                                ['p1_name', 'p2_name']\n",
    "                             ]"
   ]
  },
  {
   "cell_type": "markdown",
   "metadata": {},
   "source": [
    "## Conduct Nuc simulations on all M parameters to build the unconditional CDF"
   ]
  },
  {
   "cell_type": "code",
   "execution_count": null,
   "metadata": {},
   "outputs": [],
   "source": [
    "stage_name = stage_names[0] # \"unconditional\"\n",
    "archive_dir = os.path.join(work_directory,\"{}_archived\".format(stage_name))\n",
    "# make archive directory if it doesn't exist\n",
    "if not os.path.isdir(archive_dir): \n",
    "    os.mkdir(archive_dir)\n",
    "# create an Optimizer instance and call monte_carlo method\n",
    "optr = Optimizer(Parameters(param_path), data, control_path, work_directory, title=title)\n",
    "optr.monte_carlo(\n",
    "                 measured_path, \n",
    "                 param_names_for_each_stage[0], \n",
    "                 PRMS_output_variable, \n",
    "                 method=resample_meth,\n",
    "                 n_sims=Nuc, \n",
    "                 nproc=nprocs, \n",
    "                 stage=stage_name\n",
    "                 )\n",
    "# optionally archive output to reduce disk space\n",
    "result = OptimizationResult(work_directory, stage=stage_name)\n",
    "result.archive()"
   ]
  },
  {
   "cell_type": "markdown",
   "metadata": {},
   "source": [
    "## Create conditional CDFs Nc times for each parameter, storing conditioning parameter values"
   ]
  },
  {
   "cell_type": "code",
   "execution_count": null,
   "metadata": {},
   "outputs": [],
   "source": [
    "for nc in range(Nc): # number of conditional param bootstrap resamples- distributable to multiple machines/nodes\n",
    "    for i, stage in enumerate(stage_names): # xi param of M total params\n",
    "        if stage=='unconditional': # already built unconditional CDF- skip\n",
    "            continue\n",
    "        # use unconditional param list set minus conditioning param list to find conditioning param name\n",
    "        conditional_param = list(set(stage_names['unconditional']) - set(stage_names[stage]))[0]\n",
    "        # make a Parameter instance to resample the conditioning param and others \n",
    "        params = Parameters(param_path)\n",
    "        xi_values = resample(params, conditional_param)\n",
    "        params[conditional_param] = xi_values # assign resampled conditioning parameter (xi) to Parameter object\n",
    "        stage_name = stage+str(nc) # add nc for nc'th bootstrap resampling round\n",
    "        # create output archive directory to hold info on xi conditioning values and correspinding model output\n",
    "        archive_dir = os.path.join(work_directory,\"{}_archived\".format(stage_name))\n",
    "        if not os.path.isdir(archive_dir):\n",
    "            os.mkdir(archive_dir)\n",
    "        if xi_values.shape == (): # some parameters may be single valued, this worked for me\n",
    "            with open(os.path.join(archive_dir,'{}_Nc_{}.txt'.format(conditional_param,i)), 'w') as outf:\n",
    "                outf.write(str(xi_values))\n",
    "        else: # ndarrays can be dumped to a text file using numpy\n",
    "            np.savetxt(os.path.join(archive_dir,'{}_Nc_{}.txt'.format(conditional_param,i)), xi_values, fmt=\"%f\")\n",
    "        # create an Optimizer instance and call monte_carlo method with the correct parameter modifications\n",
    "        optr = Optimizer(params, data, control_path, work_directory, title=title)\n",
    "        optr.monte_carlo(\n",
    "                         measured_path, \n",
    "                         param_names_for_each_stage[i], \n",
    "                         PRMS_output_variable, \n",
    "                         method=resample_meth,\n",
    "                         n_sims=n,  \n",
    "                         nproc=nprocs, \n",
    "                         stage=stage_name\n",
    "                         )\n",
    "        # optionally archive output to reduce disk space\n",
    "        result = OptimizationResult(work_directory, stage=stage_name)\n",
    "        result.archive()"
   ]
  },
  {
   "cell_type": "markdown",
   "metadata": {},
   "source": [
    "## That's it, now analyze output to calculate sensitivity indices for each input parameter\n",
    "\n",
    "Although this example does not include analysis of results, it is straightforward to build output CDFs from the archived JSON files. For example of accessing output from these files please refer to the Jupyter Notebooks that packs with PRMS-Python for the `OptimizationResult` object. For convenience we added Python functions that calculate emprical CDFs and the Kolmogorov-Smirnov distance between two CDFs in the `prms_python.util` module. These functions can be used to easily calculate the PAWN sensitivity analysis from the results produced using the template above.  "
   ]
  }
 ],
 "metadata": {
  "kernelspec": {
   "display_name": "Python 3",
   "language": "python",
   "name": "python3"
  },
  "language_info": {
   "codemirror_mode": {
    "name": "ipython",
    "version": 3
   },
   "file_extension": ".py",
   "mimetype": "text/x-python",
   "name": "python",
   "nbconvert_exporter": "python",
   "pygments_lexer": "ipython3",
   "version": "3.5.2"
  }
 },
 "nbformat": 4,
 "nbformat_minor": 2
}
