{
 "cells": [
  {
   "cell_type": "code",
   "execution_count": 1,
   "metadata": {
    "collapsed": false
   },
   "outputs": [],
   "source": [
    "\"\"\"\n",
    "Ipython notebook to test/document function that loads\n",
    "the PRMS statvar output file to a pandas dataframe object\n",
    "Author: John Volk, March 2015\n",
    "Python 2.7.7\n",
    "Pandas 0.16.2\n",
    "\"\"\"\n",
    "import matplotlib.pyplot as plt\n",
    "import matplotlib\n",
    "import pandas as pd\n",
    "import os\n",
    "#%matplotlib inline  ## was having trouble with inline plots with pandas- not sure why\n",
    "#%pylab inline"
   ]
  },
  {
   "cell_type": "markdown",
   "metadata": {},
   "source": [
    "###Function to load data from a PRMS statistical output variable file into a pandas dataframe\n",
    "---\n",
    "* The statistical output variable file from PRMS aka statvar file holds time series output\n",
    "* Examples of data within this file include simulated temperature at one location in the model or basin area weighted evaporation\n",
    " - and many others, listed in table in PRMS manual\n",
    "------\n",
    "####Loading time series data into Pandas is useful because Pandas has been built for to handle and manipulate tabular or time series data\n",
    "* Pandas objects can conveniently be index by dates and tabular operations such as pivot tables, sort, groupby are readily available\n",
    "* From Pandas the data can also be easily converted to other formats such as csv or an excel file"
   ]
  },
  {
   "cell_type": "code",
   "execution_count": 2,
   "metadata": {
    "collapsed": true
   },
   "outputs": [],
   "source": [
    "def load_PRMSstatvar(statvarfile):\n",
    "    \"\"\" \n",
    "    INPUT: statvarfile = statvar file path (string)\n",
    "    OUTPUT: df = Pandas dataframe of PRMS variables date indexed from statvarfile\n",
    "    \"\"\"\n",
    "    #### make list of statistical output variables for df header\n",
    "    column_list = ['index','year','month','day','hh','mm','sec']\n",
    "    ## append to header list the variables present in the file\n",
    "    with open(statvarfile, 'r') as inf:\n",
    "        for i,line in enumerate(inf):\n",
    "            if i == 0: ## first line is always int number of variables\n",
    "                nstatvars = int(line)\n",
    "            elif i <= nstatvars and i != 0:\n",
    "                column_list.append(line.rstrip())\n",
    "            else: break\n",
    "    column_list.append('whitespace') ## white space after last header can sometimes make extra column via delimiting\n",
    "    ### Arguments for read_csv function\n",
    "    delim=\" \"; head = -1; missing_value= -999; skiprows = nstatvars + 1 ## plus 1 for first line, -999 is the missing data representation for PRMS files  \n",
    "    df = pd.read_csv(statvarfile, sep=delim, skiprows=skiprows,header=-1, na_values=[missing_value] )\n",
    "    df.columns = column_list  ## use statvar list as the column names of the df\n",
    "    date = pd.Series(pd.to_datetime(df.year*10000+df.month*100+df.day, format='%Y%m%d'), index=df.index)\n",
    "    df.index = pd.to_datetime(date) ## make the df index the datetime for the time series data\n",
    "    df.drop(['index','year','month','day','hh','mm','sec','whitespace'],axis=1,inplace=True)\n",
    "    df.columns.name = 'statistical variables' ; df.index.name = 'date'\n",
    "    return df"
   ]
  },
  {
   "cell_type": "markdown",
   "metadata": {},
   "source": [
    "###Call the function using an example statvar file which returns a Pandas dataframe"
   ]
  },
  {
   "cell_type": "code",
   "execution_count": 3,
   "metadata": {
    "collapsed": false
   },
   "outputs": [
    {
     "data": {
      "text/html": [
       "<div>\n",
       "<table border=\"1\" class=\"dataframe\">\n",
       "  <thead>\n",
       "    <tr style=\"text-align: right;\">\n",
       "      <th>statistical variables</th>\n",
       "      <th>basin_cfs 1</th>\n",
       "      <th>basin_potet 1</th>\n",
       "      <th>orad 1</th>\n",
       "      <th>runoff 57</th>\n",
       "    </tr>\n",
       "    <tr>\n",
       "      <th>date</th>\n",
       "      <th></th>\n",
       "      <th></th>\n",
       "      <th></th>\n",
       "      <th></th>\n",
       "    </tr>\n",
       "  </thead>\n",
       "  <tbody>\n",
       "    <tr>\n",
       "      <th>1984-07-01</th>\n",
       "      <td>864.475023</td>\n",
       "      <td>0.087736</td>\n",
       "      <td>201.736343</td>\n",
       "      <td>19800</td>\n",
       "    </tr>\n",
       "    <tr>\n",
       "      <th>1984-07-02</th>\n",
       "      <td>3665.486368</td>\n",
       "      <td>0.068127</td>\n",
       "      <td>201.237671</td>\n",
       "      <td>21900</td>\n",
       "    </tr>\n",
       "    <tr>\n",
       "      <th>1984-07-03</th>\n",
       "      <td>4885.737093</td>\n",
       "      <td>0.104705</td>\n",
       "      <td>322.316528</td>\n",
       "      <td>23100</td>\n",
       "    </tr>\n",
       "    <tr>\n",
       "      <th>1984-07-04</th>\n",
       "      <td>7464.010971</td>\n",
       "      <td>0.158801</td>\n",
       "      <td>302.056671</td>\n",
       "      <td>24600</td>\n",
       "    </tr>\n",
       "    <tr>\n",
       "      <th>1984-07-05</th>\n",
       "      <td>13864.822171</td>\n",
       "      <td>0.179917</td>\n",
       "      <td>281.067871</td>\n",
       "      <td>26500</td>\n",
       "    </tr>\n",
       "  </tbody>\n",
       "</table>\n",
       "</div>"
      ],
      "text/plain": [
       "statistical variables   basin_cfs 1  basin_potet 1      orad 1  runoff 57\n",
       "date                                                                     \n",
       "1984-07-01               864.475023       0.087736  201.736343      19800\n",
       "1984-07-02              3665.486368       0.068127  201.237671      21900\n",
       "1984-07-03              4885.737093       0.104705  322.316528      23100\n",
       "1984-07-04              7464.010971       0.158801  302.056671      24600\n",
       "1984-07-05             13864.822171       0.179917  281.067871      26500"
      ]
     },
     "execution_count": 3,
     "metadata": {},
     "output_type": "execute_result"
    }
   ],
   "source": [
    "## the statvar file path is set in the PRMS control file, it is user defined- we will not assume its name\n",
    "inf = os.path.join(os.getcwd(),'..','models/acf/statvar') \n",
    "df = load_PRMSstatvar(inf)\n",
    "## view first five lines of dataframe\n",
    "df.head()"
   ]
  },
  {
   "cell_type": "markdown",
   "metadata": {},
   "source": [
    "###Date indexing and slicing is now easily done in Pandas\n",
    "* Example below will show date slicing using strings that pandas interprets, e.g. \"10/01/1984\"\n",
    "* Then plot the time series of the statvar variables: simulated streamflow (basin_cfs) and measured streamflow (runoff) "
   ]
  },
  {
   "cell_type": "code",
   "execution_count": 4,
   "metadata": {
    "collapsed": false
   },
   "outputs": [
    {
     "data": {
      "text/html": [
       "<div>\n",
       "<table border=\"1\" class=\"dataframe\">\n",
       "  <thead>\n",
       "    <tr style=\"text-align: right;\">\n",
       "      <th>statistical variables</th>\n",
       "      <th>basin_cfs 1</th>\n",
       "      <th>runoff 57</th>\n",
       "    </tr>\n",
       "    <tr>\n",
       "      <th>date</th>\n",
       "      <th></th>\n",
       "      <th></th>\n",
       "    </tr>\n",
       "  </thead>\n",
       "  <tbody>\n",
       "    <tr>\n",
       "      <th>1984-10-01</th>\n",
       "      <td>7637.170504</td>\n",
       "      <td>11100</td>\n",
       "    </tr>\n",
       "  </tbody>\n",
       "</table>\n",
       "</div>"
      ],
      "text/plain": [
       "statistical variables  basin_cfs 1  runoff 57\n",
       "date                                         \n",
       "1984-10-01             7637.170504      11100"
      ]
     },
     "execution_count": 4,
     "metadata": {},
     "output_type": "execute_result"
    }
   ],
   "source": [
    "## get measured and simulated streamflow on a specific date\n",
    "df[['basin_cfs 1','runoff 57']][\"10/01/1984\"]"
   ]
  },
  {
   "cell_type": "code",
   "execution_count": 10,
   "metadata": {
    "collapsed": false
   },
   "outputs": [],
   "source": [
    "## get a slice of the dataframe for the two streamflow variables and slice for a water year and plot\n",
    "plot_data = df[['basin_cfs 1','runoff 57']][\"10/01/1984\":\"09/30/1985\"]\n",
    "## create plot object using pandas which defaults to use the index as x axis, and other columns as lines\n",
    "## labels are given for each column name, and column/index names are also used in labels \n",
    "plot_data.plot()  ## could also use matplotlib or other plot package\n",
    "plt.ylabel('streamflow cfs')\n",
    "plt.show()"
   ]
  },
  {
   "cell_type": "code",
   "execution_count": 16,
   "metadata": {
    "collapsed": false
   },
   "outputs": [
    {
     "data": {
      "text/html": [
       "<div>\n",
       "<table border=\"1\" class=\"dataframe\">\n",
       "  <thead>\n",
       "    <tr style=\"text-align: right;\">\n",
       "      <th></th>\n",
       "      <th>basin_cfs 1</th>\n",
       "      <th>runoff 57</th>\n",
       "    </tr>\n",
       "  </thead>\n",
       "  <tbody>\n",
       "    <tr>\n",
       "      <th>count</th>\n",
       "      <td>365.000000</td>\n",
       "      <td>365.000000</td>\n",
       "    </tr>\n",
       "    <tr>\n",
       "      <th>mean</th>\n",
       "      <td>13538.175130</td>\n",
       "      <td>17724.657534</td>\n",
       "    </tr>\n",
       "    <tr>\n",
       "      <th>std</th>\n",
       "      <td>8235.247999</td>\n",
       "      <td>8772.001833</td>\n",
       "    </tr>\n",
       "    <tr>\n",
       "      <th>min</th>\n",
       "      <td>5400.609965</td>\n",
       "      <td>9480.000000</td>\n",
       "    </tr>\n",
       "    <tr>\n",
       "      <th>25%</th>\n",
       "      <td>8013.978742</td>\n",
       "      <td>11800.000000</td>\n",
       "    </tr>\n",
       "    <tr>\n",
       "      <th>50%</th>\n",
       "      <td>11762.005019</td>\n",
       "      <td>14100.000000</td>\n",
       "    </tr>\n",
       "    <tr>\n",
       "      <th>75%</th>\n",
       "      <td>15590.541780</td>\n",
       "      <td>21800.000000</td>\n",
       "    </tr>\n",
       "    <tr>\n",
       "      <th>max</th>\n",
       "      <td>61061.663343</td>\n",
       "      <td>51500.000000</td>\n",
       "    </tr>\n",
       "  </tbody>\n",
       "</table>\n",
       "</div>"
      ],
      "text/plain": [
       "        basin_cfs 1     runoff 57\n",
       "count    365.000000    365.000000\n",
       "mean   13538.175130  17724.657534\n",
       "std     8235.247999   8772.001833\n",
       "min     5400.609965   9480.000000\n",
       "25%     8013.978742  11800.000000\n",
       "50%    11762.005019  14100.000000\n",
       "75%    15590.541780  21800.000000\n",
       "max    61061.663343  51500.000000"
      ]
     },
     "execution_count": 16,
     "metadata": {},
     "output_type": "execute_result"
    }
   ],
   "source": [
    "## use pandas function to get summary statistics for the 1985 water year\n",
    "plot_data.describe()"
   ]
  },
  {
   "cell_type": "markdown",
   "metadata": {
    "collapsed": true
   },
   "source": [
    "###Last example- time function for testing average speed of the function\n",
    "* Useful when developing to compare relative speed of different versions of code doing the same thing\n",
    "* Feel free to use this function or use the magic command %timeit "
   ]
  },
  {
   "cell_type": "code",
   "execution_count": 9,
   "metadata": {
    "collapsed": false
   },
   "outputs": [
    {
     "name": "stdout",
     "output_type": "stream",
     "text": [
      "The average time it took to run the function over 50 runs was 0.00433996 seconds\n"
     ]
    }
   ],
   "source": [
    "import time\n",
    "def time_it(f, *args):\n",
    "    start = time.clock()\n",
    "    f(*args)\n",
    "    return (time.clock() - start)\n",
    "n = 50\n",
    "t = 0\n",
    "for i in range(n):\n",
    "    t += time_it(load_PRMSstatvar, inf)\n",
    "print 'The average time it took to run the function over {n} runs was {avg} seconds'.format(n=n,avg=t/n)"
   ]
  }
 ],
 "metadata": {
  "kernelspec": {
   "display_name": "Python 2",
   "language": "python",
   "name": "python2"
  },
  "language_info": {
   "codemirror_mode": {
    "name": "ipython",
    "version": 2
   },
   "file_extension": ".py",
   "mimetype": "text/x-python",
   "name": "python",
   "nbconvert_exporter": "python",
   "pygments_lexer": "ipython2",
   "version": "2.7.6"
  }
 },
 "nbformat": 4,
 "nbformat_minor": 0
}
