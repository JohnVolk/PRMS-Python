{
 "cells": [
  {
   "cell_type": "code",
   "execution_count": 89,
   "metadata": {
    "collapsed": false
   },
   "outputs": [],
   "source": [
    "\"\"\"\n",
    "Ipython notebook to test/document function that loads\n",
    "the PRMS data file into a pandas dataframe\n",
    "Author: John Volk, June 2016\n",
    "Python 2.7.7\n",
    "Pandas 0.18.1\n",
    "\"\"\"\n",
    "import numpy as np\n",
    "import pandas as pd\n",
    "import os"
   ]
  },
  {
   "cell_type": "code",
   "execution_count": 90,
   "metadata": {
    "collapsed": false
   },
   "outputs": [],
   "source": [
    "def load_data_file(data_file):\n",
    "    \"\"\" \n",
    "    Read the data file and load into a datetime indexed Pandas dataframe object\n",
    "    INPUT: data_file = data file path (string)\n",
    "    OUTPUT: df = Pandas dataframe of input time series data from data file with datetime index\n",
    "    \"\"\"\n",
    "    ## valid input time series that can be put into a data file\n",
    "    valid_input_variables = ('gate_ht', \n",
    "                             'humidity', \n",
    "                             'lake_elev', \n",
    "                             'pan_evap',\n",
    "                             'precip', \n",
    "                             'rain_day', \n",
    "                             'runoff', \n",
    "                             'snowdepth', \n",
    "                             'solrad', \n",
    "                             'tmax', \n",
    "                             'tmin', \n",
    "                             'wind_speed')\n",
    "    #### starting list of names for header in dataframe\n",
    "    date_header = ['year', \n",
    "                   'month', \n",
    "                   'day', \n",
    "                   'hh', \n",
    "                   'mm', \n",
    "                   'sec']\n",
    "    ## append to header list the variables present in the file\n",
    "    with open(data_file, 'r') as inf:\n",
    "        for idx,l in enumerate(inf):\n",
    "            if idx == 0: ## first line always string identifier of the file- may use later\n",
    "                data_head = l.rstrip()\n",
    "            elif l.startswith('/'): ## comment lines\n",
    "                continue\n",
    "            if l.startswith(valid_input_variables): ## header lines with name and number of input variables\n",
    "                h = l.split() ## split line into list, first element name and second number of columns\n",
    "                if int(h[1]) > 1: ## more than one input time series of a particular variable\n",
    "                    for el in range(int(h[1])):\n",
    "                        tmp = '{var_name} {var_ind}'.format(var_name=h[0], var_ind=el+1)\n",
    "                        date_header.append(tmp)\n",
    "                elif int(h[1]) == 1:\n",
    "                    date_header.append(h[0])\n",
    "            if l.startswith('#'): ## end of header info and begin time series input data\n",
    "                skip_line = idx+1\n",
    "                break\n",
    "    ## read data file into pandas dataframe object with correct header names\n",
    "    missing_value= -999 ## missing data representation\n",
    "    df = pd.read_csv(data_file, header=-1, skiprows=skip_line, \n",
    "                     delim_whitespace=True, na_values=[missing_value]) ## read file\n",
    "    df.columns = date_header  ## apply correct header names using metadata retrieved from file\n",
    "    date = pd.Series(pd.to_datetime(df.year*10000+df.month*100+df.day, format='%Y%m%d'), \n",
    "                     index=df.index) ## create date column\n",
    "    df.index = pd.to_datetime(date) ## make the df index the datetime \n",
    "    df.drop(['year', 'month', 'day', 'hh', 'mm', 'sec'], axis=1, inplace=True) ## drop unneeded columns\n",
    "    df.columns.name = 'input variables' ; df.index.name = 'date' ## name dataframe axes (index,columns)\n",
    "    return df"
   ]
  },
  {
   "cell_type": "code",
   "execution_count": 91,
   "metadata": {
    "collapsed": false
   },
   "outputs": [],
   "source": [
    "data_file = os.path.join(os.getcwd(),'..','models/lbcd/lbcd_2.data') "
   ]
  },
  {
   "cell_type": "code",
   "execution_count": 92,
   "metadata": {
    "collapsed": false
   },
   "outputs": [
    {
     "data": {
      "text/html": [
       "<div>\n",
       "<table border=\"1\" class=\"dataframe\">\n",
       "  <thead>\n",
       "    <tr style=\"text-align: right;\">\n",
       "      <th>input variables</th>\n",
       "      <th>runoff 1</th>\n",
       "      <th>runoff 2</th>\n",
       "      <th>runoff 3</th>\n",
       "      <th>precip</th>\n",
       "      <th>tmax</th>\n",
       "      <th>tmin</th>\n",
       "    </tr>\n",
       "    <tr>\n",
       "      <th>date</th>\n",
       "      <th></th>\n",
       "      <th></th>\n",
       "      <th></th>\n",
       "      <th></th>\n",
       "      <th></th>\n",
       "      <th></th>\n",
       "    </tr>\n",
       "  </thead>\n",
       "  <tbody>\n",
       "    <tr>\n",
       "      <th>1992-10-01</th>\n",
       "      <td>1.2</td>\n",
       "      <td>1.9</td>\n",
       "      <td>NaN</td>\n",
       "      <td>0.0</td>\n",
       "      <td>77</td>\n",
       "      <td>52.0</td>\n",
       "    </tr>\n",
       "    <tr>\n",
       "      <th>1992-10-02</th>\n",
       "      <td>1.3</td>\n",
       "      <td>2.0</td>\n",
       "      <td>NaN</td>\n",
       "      <td>0.0</td>\n",
       "      <td>75</td>\n",
       "      <td>53.0</td>\n",
       "    </tr>\n",
       "    <tr>\n",
       "      <th>1992-10-03</th>\n",
       "      <td>1.4</td>\n",
       "      <td>2.1</td>\n",
       "      <td>NaN</td>\n",
       "      <td>0.0</td>\n",
       "      <td>62</td>\n",
       "      <td>44.0</td>\n",
       "    </tr>\n",
       "    <tr>\n",
       "      <th>1992-10-04</th>\n",
       "      <td>1.5</td>\n",
       "      <td>2.2</td>\n",
       "      <td>NaN</td>\n",
       "      <td>0.0</td>\n",
       "      <td>62</td>\n",
       "      <td>34.0</td>\n",
       "    </tr>\n",
       "    <tr>\n",
       "      <th>1992-10-05</th>\n",
       "      <td>1.5</td>\n",
       "      <td>2.2</td>\n",
       "      <td>NaN</td>\n",
       "      <td>0.0</td>\n",
       "      <td>62</td>\n",
       "      <td>35.0</td>\n",
       "    </tr>\n",
       "  </tbody>\n",
       "</table>\n",
       "</div>"
      ],
      "text/plain": [
       "input variables  runoff 1  runoff 2  runoff 3  precip  tmax  tmin\n",
       "date                                                             \n",
       "1992-10-01            1.2       1.9       NaN     0.0    77  52.0\n",
       "1992-10-02            1.3       2.0       NaN     0.0    75  53.0\n",
       "1992-10-03            1.4       2.1       NaN     0.0    62  44.0\n",
       "1992-10-04            1.5       2.2       NaN     0.0    62  34.0\n",
       "1992-10-05            1.5       2.2       NaN     0.0    62  35.0"
      ]
     },
     "execution_count": 92,
     "metadata": {},
     "output_type": "execute_result"
    }
   ],
   "source": [
    "load_data_file(data_file).head()"
   ]
  },
  {
   "cell_type": "code",
   "execution_count": 93,
   "metadata": {
    "collapsed": false
   },
   "outputs": [
    {
     "name": "stdout",
     "output_type": "stream",
     "text": [
      "The average time it took to run the function over 50 runs was 0.005872 seconds\n"
     ]
    }
   ],
   "source": [
    "import time\n",
    "def time_it(f, *args):\n",
    "    start = time.clock()\n",
    "    f(*args)\n",
    "    return (time.clock() - start)\n",
    "n = 50\n",
    "t = 0\n",
    "for i in range(n):\n",
    "    t += time_it(load_data_file, data_file)\n",
    "print 'The average time it took to run the function over {n} runs was {avg} seconds'.format(n=n,avg=t/n)"
   ]
  },
  {
   "cell_type": "code",
   "execution_count": 94,
   "metadata": {
    "collapsed": true
   },
   "outputs": [],
   "source": [
    "class Data(object):\n",
    "    \"\"\"\n",
    "    PRMS data file object to read, write and modify time \n",
    "    series input to PRMS. Work in progress\n",
    "    \"\"\"\n",
    "    \n",
    "    def __init__(self, base_file):\n",
    "        self.base_file = base_file\n",
    "\n",
    "        \n",
    "        "
   ]
  },
  {
   "cell_type": "code",
   "execution_count": 95,
   "metadata": {
    "collapsed": false
   },
   "outputs": [],
   "source": [
    "x=Data(data_file)"
   ]
  },
  {
   "cell_type": "code",
   "execution_count": 96,
   "metadata": {
    "collapsed": false
   },
   "outputs": [
    {
     "data": {
      "text/plain": [
       "'/home/john/PRMS-Python/scripts/../models/lbcd/lbcd_2.data'"
      ]
     },
     "execution_count": 96,
     "metadata": {},
     "output_type": "execute_result"
    }
   ],
   "source": [
    "x.base_file"
   ]
  },
  {
   "cell_type": "code",
   "execution_count": 97,
   "metadata": {
    "collapsed": false
   },
   "outputs": [],
   "source": [
    "def get_datafile_metadata(data_file):\n",
    "    \"\"\" \n",
    "    \"\"\"\n",
    "    ## valid input time series that can be put into a data file\n",
    "    valid_input_variables = ('gate_ht', \n",
    "                             'humidity', \n",
    "                             'lake_elev', \n",
    "                             'pan_evap',\n",
    "                             'precip', \n",
    "                             'rain_day', \n",
    "                             'runoff', \n",
    "                             'snowdepth', \n",
    "                             'solrad', \n",
    "                             'tmax', \n",
    "                             'tmin', \n",
    "                             'wind_speed')\n",
    "    #### starting list of names for header in dataframe\n",
    "    input_data_names = []\n",
    "    ## append to header list the variables present in the file\n",
    "    with open(data_file, 'r') as inf:\n",
    "        for idx,l in enumerate(inf):\n",
    "            if idx == 0: ## first line always string identifier of the file- may use later\n",
    "                data_head = l.rstrip()\n",
    "            elif l.startswith('/'): ## comment lines\n",
    "                continue\n",
    "            if l.startswith(valid_input_variables): ## header lines with name and number of input variables\n",
    "                h = l.split() ## split line into list, first element name and second number of columns\n",
    "                if int(h[1]) > 1: ## more than one input time series of a particular variable\n",
    "                    for el in range(int(h[1])):\n",
    "                        tmp = '{var_name} {var_ind}'.format(var_name=h[0], var_ind=el+1)\n",
    "                        input_data_names.append(tmp)\n",
    "                elif int(h[1]) == 1:\n",
    "                    input_data_names.append(h[0])\n",
    "            if l.startswith('#'): ## end of header info and begin time series input data\n",
    "                data_startline = idx+1 ## 0 indexed line of first data entry\n",
    "                break\n",
    "                \n",
    "    return dict([('data_startline',data_startline), ('data_variables',input_data_names)])"
   ]
  },
  {
   "cell_type": "code",
   "execution_count": 98,
   "metadata": {
    "collapsed": false
   },
   "outputs": [
    {
     "data": {
      "text/plain": [
       "{'data_startline': 18,\n",
       " 'data_variables': ['runoff 1',\n",
       "  'runoff 2',\n",
       "  'runoff 3',\n",
       "  'precip',\n",
       "  'tmax',\n",
       "  'tmin']}"
      ]
     },
     "execution_count": 98,
     "metadata": {},
     "output_type": "execute_result"
    }
   ],
   "source": [
    "get_datafile_metadata(data_file)"
   ]
  },
  {
   "cell_type": "code",
   "execution_count": 99,
   "metadata": {
    "collapsed": false
   },
   "outputs": [],
   "source": [
    "def load_datafile(data_file):\n",
    "    missing_value= -999 ## missing data representation\n",
    "    df = pd.read_csv(data_file, header=-1, skiprows=get_data_metadata(data_file)['data_startline'], \n",
    "                     delim_whitespace=True, na_values=[missing_value]) ## read file\n",
    "    #### starting list of names for header in dataframe\n",
    "    date_header = ['year', \n",
    "                   'month', \n",
    "                   'day', \n",
    "                   'hh', \n",
    "                   'mm', \n",
    "                   'sec']\n",
    "    df.columns = date_header + get_data_metadata(data_file)['data_variables']\n",
    "    date = pd.Series(pd.to_datetime(df.year*10000+df.month*100+df.day, format='%Y%m%d'), \n",
    "                     index=df.index) ## create date column\n",
    "    df.index = pd.to_datetime(date) ## make the df index the datetime \n",
    "    df.drop(['year', 'month', 'day', 'hh', 'mm', 'sec'], axis=1, inplace=True) ## drop unneeded columns\n",
    "    df.columns.name = 'input variables' ; df.index.name = 'date' ## name dataframe axes (index,columns)\n",
    "    return df"
   ]
  },
  {
   "cell_type": "code",
   "execution_count": 100,
   "metadata": {
    "collapsed": false
   },
   "outputs": [],
   "source": [
    "df = load_datafile(data_file)"
   ]
  },
  {
   "cell_type": "code",
   "execution_count": 101,
   "metadata": {
    "collapsed": false
   },
   "outputs": [],
   "source": [
    "def adjust_datafile(func, data_file, vars_to_adjust):\n",
    "    df = load_datafile(data_file)\n",
    "    for v in vars_to_adjust:\n",
    "        df[v] = df[v].apply(func)\n",
    "    return df"
   ]
  },
  {
   "cell_type": "code",
   "execution_count": 102,
   "metadata": {
    "collapsed": false
   },
   "outputs": [
    {
     "data": {
      "text/html": [
       "<div>\n",
       "<table border=\"1\" class=\"dataframe\">\n",
       "  <thead>\n",
       "    <tr style=\"text-align: right;\">\n",
       "      <th>input variables</th>\n",
       "      <th>runoff 1</th>\n",
       "      <th>runoff 2</th>\n",
       "      <th>runoff 3</th>\n",
       "      <th>precip</th>\n",
       "      <th>tmax</th>\n",
       "      <th>tmin</th>\n",
       "    </tr>\n",
       "    <tr>\n",
       "      <th>date</th>\n",
       "      <th></th>\n",
       "      <th></th>\n",
       "      <th></th>\n",
       "      <th></th>\n",
       "      <th></th>\n",
       "      <th></th>\n",
       "    </tr>\n",
       "  </thead>\n",
       "  <tbody>\n",
       "    <tr>\n",
       "      <th>1992-10-01</th>\n",
       "      <td>1.2</td>\n",
       "      <td>1.9</td>\n",
       "      <td>NaN</td>\n",
       "      <td>0.0</td>\n",
       "      <td>77</td>\n",
       "      <td>52.0</td>\n",
       "    </tr>\n",
       "    <tr>\n",
       "      <th>1992-10-02</th>\n",
       "      <td>1.3</td>\n",
       "      <td>2.0</td>\n",
       "      <td>NaN</td>\n",
       "      <td>0.0</td>\n",
       "      <td>75</td>\n",
       "      <td>53.0</td>\n",
       "    </tr>\n",
       "    <tr>\n",
       "      <th>1992-10-03</th>\n",
       "      <td>1.4</td>\n",
       "      <td>2.1</td>\n",
       "      <td>NaN</td>\n",
       "      <td>0.0</td>\n",
       "      <td>62</td>\n",
       "      <td>44.0</td>\n",
       "    </tr>\n",
       "    <tr>\n",
       "      <th>1992-10-04</th>\n",
       "      <td>1.5</td>\n",
       "      <td>2.2</td>\n",
       "      <td>NaN</td>\n",
       "      <td>0.0</td>\n",
       "      <td>62</td>\n",
       "      <td>34.0</td>\n",
       "    </tr>\n",
       "    <tr>\n",
       "      <th>1992-10-05</th>\n",
       "      <td>1.5</td>\n",
       "      <td>2.2</td>\n",
       "      <td>NaN</td>\n",
       "      <td>0.0</td>\n",
       "      <td>62</td>\n",
       "      <td>35.0</td>\n",
       "    </tr>\n",
       "  </tbody>\n",
       "</table>\n",
       "</div>"
      ],
      "text/plain": [
       "input variables  runoff 1  runoff 2  runoff 3  precip  tmax  tmin\n",
       "date                                                             \n",
       "1992-10-01            1.2       1.9       NaN     0.0    77  52.0\n",
       "1992-10-02            1.3       2.0       NaN     0.0    75  53.0\n",
       "1992-10-03            1.4       2.1       NaN     0.0    62  44.0\n",
       "1992-10-04            1.5       2.2       NaN     0.0    62  34.0\n",
       "1992-10-05            1.5       2.2       NaN     0.0    62  35.0"
      ]
     },
     "execution_count": 102,
     "metadata": {},
     "output_type": "execute_result"
    }
   ],
   "source": [
    "df.head()"
   ]
  },
  {
   "cell_type": "code",
   "execution_count": 103,
   "metadata": {
    "collapsed": false
   },
   "outputs": [],
   "source": [
    "def f(x):\n",
    "    return np.sin(x)"
   ]
  },
  {
   "cell_type": "code",
   "execution_count": 104,
   "metadata": {
    "collapsed": false
   },
   "outputs": [
    {
     "data": {
      "text/html": [
       "<div>\n",
       "<table border=\"1\" class=\"dataframe\">\n",
       "  <thead>\n",
       "    <tr style=\"text-align: right;\">\n",
       "      <th>input variables</th>\n",
       "      <th>runoff 1</th>\n",
       "      <th>runoff 2</th>\n",
       "      <th>runoff 3</th>\n",
       "      <th>precip</th>\n",
       "      <th>tmax</th>\n",
       "      <th>tmin</th>\n",
       "    </tr>\n",
       "    <tr>\n",
       "      <th>date</th>\n",
       "      <th></th>\n",
       "      <th></th>\n",
       "      <th></th>\n",
       "      <th></th>\n",
       "      <th></th>\n",
       "      <th></th>\n",
       "    </tr>\n",
       "  </thead>\n",
       "  <tbody>\n",
       "    <tr>\n",
       "      <th>1992-10-01</th>\n",
       "      <td>1.2</td>\n",
       "      <td>1.9</td>\n",
       "      <td>NaN</td>\n",
       "      <td>0.0</td>\n",
       "      <td>0.999520</td>\n",
       "      <td>0.986628</td>\n",
       "    </tr>\n",
       "    <tr>\n",
       "      <th>1992-10-02</th>\n",
       "      <td>1.3</td>\n",
       "      <td>2.0</td>\n",
       "      <td>NaN</td>\n",
       "      <td>0.0</td>\n",
       "      <td>-0.387782</td>\n",
       "      <td>0.395925</td>\n",
       "    </tr>\n",
       "    <tr>\n",
       "      <th>1992-10-03</th>\n",
       "      <td>1.4</td>\n",
       "      <td>2.1</td>\n",
       "      <td>NaN</td>\n",
       "      <td>0.0</td>\n",
       "      <td>-0.739181</td>\n",
       "      <td>0.017702</td>\n",
       "    </tr>\n",
       "    <tr>\n",
       "      <th>1992-10-04</th>\n",
       "      <td>1.5</td>\n",
       "      <td>2.2</td>\n",
       "      <td>NaN</td>\n",
       "      <td>0.0</td>\n",
       "      <td>-0.739181</td>\n",
       "      <td>0.529083</td>\n",
       "    </tr>\n",
       "    <tr>\n",
       "      <th>1992-10-05</th>\n",
       "      <td>1.5</td>\n",
       "      <td>2.2</td>\n",
       "      <td>NaN</td>\n",
       "      <td>0.0</td>\n",
       "      <td>-0.739181</td>\n",
       "      <td>-0.428183</td>\n",
       "    </tr>\n",
       "  </tbody>\n",
       "</table>\n",
       "</div>"
      ],
      "text/plain": [
       "input variables  runoff 1  runoff 2  runoff 3  precip      tmax      tmin\n",
       "date                                                                     \n",
       "1992-10-01            1.2       1.9       NaN     0.0  0.999520  0.986628\n",
       "1992-10-02            1.3       2.0       NaN     0.0 -0.387782  0.395925\n",
       "1992-10-03            1.4       2.1       NaN     0.0 -0.739181  0.017702\n",
       "1992-10-04            1.5       2.2       NaN     0.0 -0.739181  0.529083\n",
       "1992-10-05            1.5       2.2       NaN     0.0 -0.739181 -0.428183"
      ]
     },
     "execution_count": 104,
     "metadata": {},
     "output_type": "execute_result"
    }
   ],
   "source": [
    "adjust_datafile(f,data_file,['tmin','tmax']).head()"
   ]
  },
  {
   "cell_type": "code",
   "execution_count": 67,
   "metadata": {
    "collapsed": false
   },
   "outputs": [
    {
     "data": {
      "text/html": [
       "<div>\n",
       "<table border=\"1\" class=\"dataframe\">\n",
       "  <thead>\n",
       "    <tr style=\"text-align: right;\">\n",
       "      <th>input variables</th>\n",
       "      <th>runoff 1</th>\n",
       "      <th>runoff 2</th>\n",
       "      <th>runoff 3</th>\n",
       "      <th>precip</th>\n",
       "      <th>tmax</th>\n",
       "      <th>tmin</th>\n",
       "    </tr>\n",
       "    <tr>\n",
       "      <th>date</th>\n",
       "      <th></th>\n",
       "      <th></th>\n",
       "      <th></th>\n",
       "      <th></th>\n",
       "      <th></th>\n",
       "      <th></th>\n",
       "    </tr>\n",
       "  </thead>\n",
       "  <tbody>\n",
       "    <tr>\n",
       "      <th>1992-10-01</th>\n",
       "      <td>1.2</td>\n",
       "      <td>1.9</td>\n",
       "      <td>NaN</td>\n",
       "      <td>0.0</td>\n",
       "      <td>77</td>\n",
       "      <td>52.0</td>\n",
       "    </tr>\n",
       "    <tr>\n",
       "      <th>1992-10-02</th>\n",
       "      <td>1.3</td>\n",
       "      <td>2.0</td>\n",
       "      <td>NaN</td>\n",
       "      <td>0.0</td>\n",
       "      <td>75</td>\n",
       "      <td>53.0</td>\n",
       "    </tr>\n",
       "    <tr>\n",
       "      <th>1992-10-03</th>\n",
       "      <td>1.4</td>\n",
       "      <td>2.1</td>\n",
       "      <td>NaN</td>\n",
       "      <td>0.0</td>\n",
       "      <td>62</td>\n",
       "      <td>44.0</td>\n",
       "    </tr>\n",
       "    <tr>\n",
       "      <th>1992-10-04</th>\n",
       "      <td>1.5</td>\n",
       "      <td>2.2</td>\n",
       "      <td>NaN</td>\n",
       "      <td>0.0</td>\n",
       "      <td>62</td>\n",
       "      <td>34.0</td>\n",
       "    </tr>\n",
       "    <tr>\n",
       "      <th>1992-10-05</th>\n",
       "      <td>1.5</td>\n",
       "      <td>2.2</td>\n",
       "      <td>NaN</td>\n",
       "      <td>0.0</td>\n",
       "      <td>62</td>\n",
       "      <td>35.0</td>\n",
       "    </tr>\n",
       "  </tbody>\n",
       "</table>\n",
       "</div>"
      ],
      "text/plain": [
       "input variables  runoff 1  runoff 2  runoff 3  precip  tmax  tmin\n",
       "date                                                             \n",
       "1992-10-01            1.2       1.9       NaN     0.0    77  52.0\n",
       "1992-10-02            1.3       2.0       NaN     0.0    75  53.0\n",
       "1992-10-03            1.4       2.1       NaN     0.0    62  44.0\n",
       "1992-10-04            1.5       2.2       NaN     0.0    62  34.0\n",
       "1992-10-05            1.5       2.2       NaN     0.0    62  35.0"
      ]
     },
     "execution_count": 67,
     "metadata": {},
     "output_type": "execute_result"
    }
   ],
   "source": [
    "df.head()"
   ]
  },
  {
   "cell_type": "code",
   "execution_count": 111,
   "metadata": {
    "collapsed": false
   },
   "outputs": [],
   "source": [
    "def write_datafile(data_file, df, out_name):\n",
    "    ## reconstruct original datafile format\n",
    "    date_header = ['year', \n",
    "                   'month', \n",
    "                   'day', \n",
    "                   'hh', \n",
    "                   'mm', \n",
    "                   'sec']\n",
    "    df['year'] = df.index.year\n",
    "    df['month'] = df.index.month\n",
    "    df['day'] = df.index.day\n",
    "    df['hh'] = df['mm'] = df['sec'] = 0\n",
    "    df = df[date_header + get_data_metadata(data_file)['data_variables']] \n",
    "    with open(out_name,'w') as outf:\n",
    "        with open(data_file) as data:\n",
    "            for idx, line in enumerate(data):\n",
    "                if idx == get_data_metadata(data_file)['data_startline']:\n",
    "                    df.to_csv(outf, sep=' ', header=None, index=False, na_rep=-999)\n",
    "                    break\n",
    "                outf.write(line) # write line by line the header lines from original"
   ]
  },
  {
   "cell_type": "code",
   "execution_count": 112,
   "metadata": {
    "collapsed": false
   },
   "outputs": [],
   "source": [
    "## test loading, adjusting and writing at once\n",
    "adj_df = adjust_datafile(f, data_file, ['tmax'])\n",
    "write_datafile(data_file, adj_df, 'sine_tmax.data')"
   ]
  },
  {
   "cell_type": "code",
   "execution_count": null,
   "metadata": {
    "collapsed": true
   },
   "outputs": [],
   "source": []
  },
  {
   "cell_type": "code",
   "execution_count": null,
   "metadata": {
    "collapsed": true
   },
   "outputs": [],
   "source": []
  }
 ],
 "metadata": {
  "kernelspec": {
   "display_name": "Python 2",
   "language": "python",
   "name": "python2"
  },
  "language_info": {
   "codemirror_mode": {
    "name": "ipython",
    "version": 2
   },
   "file_extension": ".py",
   "mimetype": "text/x-python",
   "name": "python",
   "nbconvert_exporter": "python",
   "pygments_lexer": "ipython2",
   "version": "2.7.11"
  }
 },
 "nbformat": 4,
 "nbformat_minor": 0
}
