{
 "cells": [
  {
   "cell_type": "code",
   "execution_count": 103,
   "metadata": {
    "collapsed": false
   },
   "outputs": [],
   "source": [
    "\"\"\"\n",
    "Ipython notebook to test/document object that loads\n",
    "the PRMS data file into pandas and allows for function-based modification\n",
    "and rewriting to PRMS format\n",
    "Author: John Volk, June 2016\n",
    "Python 2.7.7\n",
    "Pandas 0.18.1\n",
    "\"\"\"\n",
    "import numpy as np\n",
    "import pandas as pd\n",
    "import os"
   ]
  },
  {
   "cell_type": "code",
   "execution_count": 104,
   "metadata": {
    "collapsed": true
   },
   "outputs": [],
   "source": [
    "class Data(object):\n",
    "    \"\"\"\n",
    "    PRMS data object to read, write and modify time \n",
    "    series input to PRMS that are located in the PRMS data file\n",
    "    \"\"\"    \n",
    "    ## data file constant attributes\n",
    "    date_header = ['year', \n",
    "               'month', \n",
    "               'day', \n",
    "               'hh', \n",
    "               'mm', \n",
    "               'sec']\n",
    "    \n",
    "    valid_input_variables = ('gate_ht', \n",
    "                         'humidity', \n",
    "                         'lake_elev', \n",
    "                         'pan_evap',\n",
    "                         'precip', \n",
    "                         'rain_day', \n",
    "                         'runoff', \n",
    "                         'snowdepth', \n",
    "                         'solrad', \n",
    "                         'tmax', \n",
    "                         'tmin', \n",
    "                         'wind_speed')\n",
    "    \n",
    "    def __init__(self, base_file):\n",
    "        self.base_file = base_file\n",
    "        self.metadata = self.__load_metadata()\n",
    "        self.data_frame = self.__load_data()\n",
    "\n",
    "    def __load_metadata(self):\n",
    "        \"\"\" \n",
    "        \"\"\"\n",
    "        ## valid input time series that can be put into a data file\n",
    "\n",
    "        #### starting list of names for header in dataframe\n",
    "        input_data_names = []\n",
    "        ## append to header list the variables present in the file\n",
    "        with open(self.base_file, 'r') as inf:\n",
    "            for idx,l in enumerate(inf):\n",
    "                if idx == 0: ## first line always string identifier of the file- may use later\n",
    "                    data_head = l.rstrip()\n",
    "                elif l.startswith('/'): ## comment lines\n",
    "                    continue\n",
    "                if l.startswith(Data.valid_input_variables): ## header lines with name and number of input variables\n",
    "                    h = l.split() ## split line into list, first element name and second number of columns\n",
    "                    if int(h[1]) > 1: ## more than one input time series of a particular variable\n",
    "                        for el in range(int(h[1])):\n",
    "                            tmp = '{var_name} {var_ind}'.format(var_name = h[0], var_ind = el+1)\n",
    "                            input_data_names.append(tmp)\n",
    "                    elif int(h[1]) == 1:\n",
    "                        input_data_names.append(h[0])\n",
    "                if l.startswith('#'): ## end of header info and begin time series input data\n",
    "                    data_startline = idx+1 ## 0 indexed line of first data entry\n",
    "                    break\n",
    "\n",
    "        return dict([('data_startline',data_startline), ('data_variables',input_data_names)])\n",
    "    \n",
    "    def __load_data(self):\n",
    "        missing_value = -999 ## missing data representation\n",
    "        df = pd.read_csv(self.base_file, header = -1, skiprows = self.metadata['data_startline'], \n",
    "                         delim_whitespace = True, na_values = [missing_value]) ## read file\n",
    "        df.columns = Data.date_header + self.metadata['data_variables']\n",
    "        date = pd.Series(pd.to_datetime(df.year * 10000 + df.month * 100\\\n",
    "                                        + df.day, format = '%Y%m%d'), \\\n",
    "                                        index = df.index)\n",
    "        df.index = pd.to_datetime(date)  \n",
    "        df.drop(Data.date_header, axis = 1, inplace = True) ## unneeded columns\n",
    "        df.columns.name = 'input variables' ; df.index.name = 'date' \n",
    "        return df\n",
    "    \n",
    "    def adjust(self, func, vars_to_adjust):\n",
    "        for v in vars_to_adjust:\n",
    "            self.data_frame[v] = self.data_frame[v].apply(func)\n",
    "\n",
    "    def write(self, out_path):\n",
    "        ## reconstruct original datafile format\n",
    "        self.data_frame['year'] = self.data_frame.index.year\n",
    "        self.data_frame['month'] = self.data_frame.index.month\n",
    "        self.data_frame['day'] = self.data_frame.index.day\n",
    "        self.data_frame['hh'] = self.data_frame['mm'] = self.data_frame['sec'] = 0\n",
    "        self.data_frame = self.data_frame[Data.date_header + self.metadata['data_variables']] \n",
    "        with open(out_path,'w') as outf:\n",
    "            with open(self.base_file) as data:\n",
    "                for idx, line in enumerate(data):\n",
    "                    if idx == self.metadata['data_startline']:\n",
    "                        self.data_frame.to_csv(outf, sep=' ', header=None, index=False, na_rep=-999)\n",
    "                        break\n",
    "                    outf.write(line) # write line by line the header lines from original\n"
   ]
  },
  {
   "cell_type": "markdown",
   "metadata": {},
   "source": [
    "## Example of data file load, adjust, rewrite"
   ]
  },
  {
   "cell_type": "code",
   "execution_count": 105,
   "metadata": {
    "collapsed": false
   },
   "outputs": [],
   "source": [
    "## create data file object\n",
    "d = Data(data_file)"
   ]
  },
  {
   "cell_type": "code",
   "execution_count": 106,
   "metadata": {
    "collapsed": false
   },
   "outputs": [
    {
     "data": {
      "text/plain": [
       "{'data_startline': 18,\n",
       " 'data_variables': ['runoff 1',\n",
       "  'runoff 2',\n",
       "  'runoff 3',\n",
       "  'precip',\n",
       "  'tmax',\n",
       "  'tmin']}"
      ]
     },
     "execution_count": 106,
     "metadata": {},
     "output_type": "execute_result"
    }
   ],
   "source": [
    "## view data file metadata\n",
    "d.metadata"
   ]
  },
  {
   "cell_type": "code",
   "execution_count": 107,
   "metadata": {
    "collapsed": false
   },
   "outputs": [
    {
     "data": {
      "text/html": [
       "<div>\n",
       "<table border=\"1\" class=\"dataframe\">\n",
       "  <thead>\n",
       "    <tr style=\"text-align: right;\">\n",
       "      <th>input variables</th>\n",
       "      <th>runoff 1</th>\n",
       "      <th>runoff 2</th>\n",
       "      <th>runoff 3</th>\n",
       "      <th>precip</th>\n",
       "      <th>tmax</th>\n",
       "      <th>tmin</th>\n",
       "    </tr>\n",
       "    <tr>\n",
       "      <th>date</th>\n",
       "      <th></th>\n",
       "      <th></th>\n",
       "      <th></th>\n",
       "      <th></th>\n",
       "      <th></th>\n",
       "      <th></th>\n",
       "    </tr>\n",
       "  </thead>\n",
       "  <tbody>\n",
       "    <tr>\n",
       "      <th>1992-10-01</th>\n",
       "      <td>1.2</td>\n",
       "      <td>1.9</td>\n",
       "      <td>NaN</td>\n",
       "      <td>0.0</td>\n",
       "      <td>77</td>\n",
       "      <td>52.0</td>\n",
       "    </tr>\n",
       "    <tr>\n",
       "      <th>1992-10-02</th>\n",
       "      <td>1.3</td>\n",
       "      <td>2.0</td>\n",
       "      <td>NaN</td>\n",
       "      <td>0.0</td>\n",
       "      <td>75</td>\n",
       "      <td>53.0</td>\n",
       "    </tr>\n",
       "    <tr>\n",
       "      <th>1992-10-03</th>\n",
       "      <td>1.4</td>\n",
       "      <td>2.1</td>\n",
       "      <td>NaN</td>\n",
       "      <td>0.0</td>\n",
       "      <td>62</td>\n",
       "      <td>44.0</td>\n",
       "    </tr>\n",
       "    <tr>\n",
       "      <th>1992-10-04</th>\n",
       "      <td>1.5</td>\n",
       "      <td>2.2</td>\n",
       "      <td>NaN</td>\n",
       "      <td>0.0</td>\n",
       "      <td>62</td>\n",
       "      <td>34.0</td>\n",
       "    </tr>\n",
       "    <tr>\n",
       "      <th>1992-10-05</th>\n",
       "      <td>1.5</td>\n",
       "      <td>2.2</td>\n",
       "      <td>NaN</td>\n",
       "      <td>0.0</td>\n",
       "      <td>62</td>\n",
       "      <td>35.0</td>\n",
       "    </tr>\n",
       "  </tbody>\n",
       "</table>\n",
       "</div>"
      ],
      "text/plain": [
       "input variables  runoff 1  runoff 2  runoff 3  precip  tmax  tmin\n",
       "date                                                             \n",
       "1992-10-01            1.2       1.9       NaN     0.0    77  52.0\n",
       "1992-10-02            1.3       2.0       NaN     0.0    75  53.0\n",
       "1992-10-03            1.4       2.1       NaN     0.0    62  44.0\n",
       "1992-10-04            1.5       2.2       NaN     0.0    62  34.0\n",
       "1992-10-05            1.5       2.2       NaN     0.0    62  35.0"
      ]
     },
     "execution_count": 107,
     "metadata": {},
     "output_type": "execute_result"
    }
   ],
   "source": [
    "## view data file data\n",
    "d.data_frame.head()"
   ]
  },
  {
   "cell_type": "code",
   "execution_count": 108,
   "metadata": {
    "collapsed": true
   },
   "outputs": [],
   "source": [
    "## apply function to runoff variable\n",
    "def f(x):\n",
    "    return np.sin(x) +5\n",
    "\n",
    "d.adjust(f,['runoff 1'])"
   ]
  },
  {
   "cell_type": "code",
   "execution_count": 109,
   "metadata": {
    "collapsed": false
   },
   "outputs": [
    {
     "data": {
      "text/html": [
       "<div>\n",
       "<table border=\"1\" class=\"dataframe\">\n",
       "  <thead>\n",
       "    <tr style=\"text-align: right;\">\n",
       "      <th>input variables</th>\n",
       "      <th>runoff 1</th>\n",
       "      <th>runoff 2</th>\n",
       "      <th>runoff 3</th>\n",
       "      <th>precip</th>\n",
       "      <th>tmax</th>\n",
       "      <th>tmin</th>\n",
       "    </tr>\n",
       "    <tr>\n",
       "      <th>date</th>\n",
       "      <th></th>\n",
       "      <th></th>\n",
       "      <th></th>\n",
       "      <th></th>\n",
       "      <th></th>\n",
       "      <th></th>\n",
       "    </tr>\n",
       "  </thead>\n",
       "  <tbody>\n",
       "    <tr>\n",
       "      <th>1992-10-01</th>\n",
       "      <td>5.932039</td>\n",
       "      <td>1.9</td>\n",
       "      <td>NaN</td>\n",
       "      <td>0.0</td>\n",
       "      <td>77</td>\n",
       "      <td>52.0</td>\n",
       "    </tr>\n",
       "    <tr>\n",
       "      <th>1992-10-02</th>\n",
       "      <td>5.963558</td>\n",
       "      <td>2.0</td>\n",
       "      <td>NaN</td>\n",
       "      <td>0.0</td>\n",
       "      <td>75</td>\n",
       "      <td>53.0</td>\n",
       "    </tr>\n",
       "    <tr>\n",
       "      <th>1992-10-03</th>\n",
       "      <td>5.985450</td>\n",
       "      <td>2.1</td>\n",
       "      <td>NaN</td>\n",
       "      <td>0.0</td>\n",
       "      <td>62</td>\n",
       "      <td>44.0</td>\n",
       "    </tr>\n",
       "    <tr>\n",
       "      <th>1992-10-04</th>\n",
       "      <td>5.997495</td>\n",
       "      <td>2.2</td>\n",
       "      <td>NaN</td>\n",
       "      <td>0.0</td>\n",
       "      <td>62</td>\n",
       "      <td>34.0</td>\n",
       "    </tr>\n",
       "    <tr>\n",
       "      <th>1992-10-05</th>\n",
       "      <td>5.997495</td>\n",
       "      <td>2.2</td>\n",
       "      <td>NaN</td>\n",
       "      <td>0.0</td>\n",
       "      <td>62</td>\n",
       "      <td>35.0</td>\n",
       "    </tr>\n",
       "  </tbody>\n",
       "</table>\n",
       "</div>"
      ],
      "text/plain": [
       "input variables  runoff 1  runoff 2  runoff 3  precip  tmax  tmin\n",
       "date                                                             \n",
       "1992-10-01       5.932039       1.9       NaN     0.0    77  52.0\n",
       "1992-10-02       5.963558       2.0       NaN     0.0    75  53.0\n",
       "1992-10-03       5.985450       2.1       NaN     0.0    62  44.0\n",
       "1992-10-04       5.997495       2.2       NaN     0.0    62  34.0\n",
       "1992-10-05       5.997495       2.2       NaN     0.0    62  35.0"
      ]
     },
     "execution_count": 109,
     "metadata": {},
     "output_type": "execute_result"
    }
   ],
   "source": [
    "## view adjusted data\n",
    "d.data_frame.head()"
   ]
  },
  {
   "cell_type": "code",
   "execution_count": 110,
   "metadata": {
    "collapsed": true
   },
   "outputs": [],
   "source": [
    "## write new data file\n",
    "d.write('sine_runoff1_plus_2.data')"
   ]
  },
  {
   "cell_type": "code",
   "execution_count": null,
   "metadata": {
    "collapsed": true
   },
   "outputs": [],
   "source": []
  }
 ],
 "metadata": {
  "kernelspec": {
   "display_name": "Python 2",
   "language": "python",
   "name": "python2"
  },
  "language_info": {
   "codemirror_mode": {
    "name": "ipython",
    "version": 2
   },
   "file_extension": ".py",
   "mimetype": "text/x-python",
   "name": "python",
   "nbconvert_exporter": "python",
   "pygments_lexer": "ipython2",
   "version": "2.7.11"
  }
 },
 "nbformat": 4,
 "nbformat_minor": 0
}
